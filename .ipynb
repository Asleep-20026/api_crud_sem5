{
 "cells": [
  {
   "cell_type": "code",
   "execution_count": 7,
   "metadata": {},
   "outputs": [
    {
     "name": "stdout",
     "output_type": "stream",
     "text": [
      "✅ Conexión exitosa!\n",
      "✅ Tabla creada exitosamente!\n",
      "✅ Datos insertados exitosamente!\n"
     ]
    }
   ],
   "source": [
    "import pyodbc\n",
    "\n",
    "# Detalles de conexión\n",
    "server = \"server-android.database.windows.net\"\n",
    "database = \"db_android\"\n",
    "username = \"sqlserver\"\n",
    "password = \"@sql123456\"\n",
    "\n",
    "# Cadena de conexión completa para Azure SQL\n",
    "conn_str = (\n",
    "    f\"DRIVER={{ODBC Driver 18 for SQL Server}};\"\n",
    "    f\"SERVER={server};\"\n",
    "    f\"DATABASE={database};\"\n",
    "    f\"UID={username};\"\n",
    "    f\"PWD={password};\"\n",
    "    f\"Encrypt=yes;\"\n",
    "    f\"TrustServerCertificate=no;\"\n",
    "    f\"Connection Timeout=30;\"\n",
    ")\n",
    "\n",
    "try:\n",
    "    conn = pyodbc.connect(conn_str)\n",
    "    cursor = conn.cursor()\n",
    "    print(\"✅ Conexión exitosa!\")\n",
    "    \n",
    "    # Creación de una tabla de prueba\n",
    "    cursor.execute(\"\"\"\n",
    "        CREATE TABLE TestTable (\n",
    "            id INT IDENTITY(1,1) PRIMARY KEY,\n",
    "            nombre NVARCHAR(50),\n",
    "            edad INT\n",
    "        )\n",
    "    \"\"\")\n",
    "    print(\"✅ Tabla creada exitosamente!\")\n",
    "    \n",
    "    # Insertar datos en la tabla de prueba\n",
    "    cursor.execute(\"\"\"\n",
    "        INSERT INTO TestTable (nombre, edad)\n",
    "        VALUES (?, ?)\n",
    "    \"\"\", (\"Juan Pérez\", 30))\n",
    "    \n",
    "    conn.commit()\n",
    "    print(\"✅ Datos insertados exitosamente!\")\n",
    "    \n",
    "    cursor.close()\n",
    "    conn.close()\n",
    "except Exception as e:\n",
    "    print(f\"❌ Error: {e}\")"
   ]
  },
  {
   "cell_type": "code",
   "execution_count": 2,
   "metadata": {},
   "outputs": [
    {
     "name": "stdout",
     "output_type": "stream",
     "text": [
      "['SQL Server', 'Microsoft Access Driver (*.mdb, *.accdb)', 'Microsoft Excel Driver (*.xls, *.xlsx, *.xlsm, *.xlsb)', 'Microsoft Access Text Driver (*.txt, *.csv)', 'Microsoft Access dBASE Driver (*.dbf, *.ndx, *.mdx)', 'ODBC Driver 18 for SQL Server']\n"
     ]
    }
   ],
   "source": [
    "import pyodbc\n",
    "print(pyodbc.drivers())  # Muestra los drivers disponibles\n"
   ]
  }
 ],
 "metadata": {
  "kernelspec": {
   "display_name": "venv",
   "language": "python",
   "name": "python3"
  },
  "language_info": {
   "codemirror_mode": {
    "name": "ipython",
    "version": 3
   },
   "file_extension": ".py",
   "mimetype": "text/x-python",
   "name": "python",
   "nbconvert_exporter": "python",
   "pygments_lexer": "ipython3",
   "version": "3.11.9"
  }
 },
 "nbformat": 4,
 "nbformat_minor": 2
}
